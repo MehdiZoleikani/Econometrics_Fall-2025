{
 "cells": [
  {
   "cell_type": "markdown",
   "id": "f9643203-83d7-4d27-a3c8-c8dd50950fa8",
   "metadata": {},
   "source": [
    "# Data types:\n",
    "\n",
    "- Numeric types (numbers: int, float, complex)\n",
    "- Sequence types (ordered data: list, tuple, str)\n",
    "- Mapping types (key-value pairs: dict)\n",
    "- Set types (unique unordered data: set)\n",
    "- Bool types (logical values: True / False)\n"
   ]
  },
  {
   "cell_type": "markdown",
   "id": "c01ef4b1-e357-4bcb-94cf-51c0cc059b42",
   "metadata": {},
   "source": [
    "### By using the type() function, we can check data types."
   ]
  },
  {
   "cell_type": "markdown",
   "id": "54dc2720-c3b9-4691-b8f2-fa12e2cdba07",
   "metadata": {},
   "source": [
    "# Numeric types"
   ]
  },
  {
   "cell_type": "markdown",
   "id": "ac1d159a-9d78-44eb-a4ef-742f84d8aa25",
   "metadata": {},
   "source": [
    "### 1. Integers"
   ]
  },
  {
   "cell_type": "code",
   "execution_count": 13,
   "id": "bf21b264-e6a9-47a8-96bc-bdf106525345",
   "metadata": {},
   "outputs": [
    {
     "data": {
      "text/plain": [
       "int"
      ]
     },
     "execution_count": 13,
     "metadata": {},
     "output_type": "execute_result"
    }
   ],
   "source": [
    "type(666)"
   ]
  },
  {
   "cell_type": "code",
   "execution_count": 11,
   "id": "387e7af3-9d4b-4807-aba2-b260368de8c2",
   "metadata": {},
   "outputs": [
    {
     "data": {
      "text/plain": [
       "721"
      ]
     },
     "execution_count": 11,
     "metadata": {},
     "output_type": "execute_result"
    }
   ],
   "source": [
    "#int\n",
    "721"
   ]
  },
  {
   "cell_type": "markdown",
   "id": "aab11d20-9871-4f44-9d27-b6b2e89572e8",
   "metadata": {},
   "source": [
    "### 2. Float"
   ]
  },
  {
   "cell_type": "code",
   "execution_count": 60,
   "id": "f0b74037-9e21-46aa-a26b-129247a8eae3",
   "metadata": {},
   "outputs": [
    {
     "data": {
      "text/plain": [
       "float"
      ]
     },
     "execution_count": 60,
     "metadata": {},
     "output_type": "execute_result"
    }
   ],
   "source": [
    "type(15.4)"
   ]
  },
  {
   "cell_type": "code",
   "execution_count": 62,
   "id": "a4230b4e-13b6-49fb-95e6-dde73d1da25e",
   "metadata": {},
   "outputs": [
    {
     "name": "stdout",
     "output_type": "stream",
     "text": [
      "24.78\n"
     ]
    }
   ],
   "source": [
    "print(24.78)"
   ]
  },
  {
   "cell_type": "markdown",
   "id": "4e511130-8b11-499f-8524-ec4ea3545b84",
   "metadata": {},
   "source": [
    "### 3. Complex"
   ]
  },
  {
   "cell_type": "code",
   "execution_count": 3,
   "id": "cbdc8fd0-9b66-49a9-97af-68a31258c6e8",
   "metadata": {},
   "outputs": [
    {
     "name": "stdout",
     "output_type": "stream",
     "text": [
      "(78+11j)\n"
     ]
    }
   ],
   "source": [
    "z = 78 + 11j\n",
    "print(z)"
   ]
  },
  {
   "cell_type": "code",
   "execution_count": 81,
   "id": "a8239511-0133-4129-88ae-e863a0b867cf",
   "metadata": {},
   "outputs": [
    {
     "data": {
      "text/plain": [
       "complex"
      ]
     },
     "execution_count": 81,
     "metadata": {},
     "output_type": "execute_result"
    }
   ],
   "source": [
    "type(z)"
   ]
  },
  {
   "cell_type": "markdown",
   "id": "7f18be77-b03b-4e9b-bbb5-eb402977b02f",
   "metadata": {},
   "source": [
    "# Sequence types"
   ]
  },
  {
   "cell_type": "markdown",
   "id": "ca7801cd-7f60-48c0-a8d3-345205413710",
   "metadata": {},
   "source": [
    "### 1. String"
   ]
  },
  {
   "cell_type": "code",
   "execution_count": 19,
   "id": "3a19fa95-9745-4267-b63b-07e50e323bf1",
   "metadata": {},
   "outputs": [
    {
     "name": "stdout",
     "output_type": "stream",
     "text": [
      "Econometrics\n"
     ]
    }
   ],
   "source": [
    "print(\"Econometrics\")"
   ]
  },
  {
   "cell_type": "code",
   "execution_count": 108,
   "id": "8f250fa6-3c93-46c9-8075-8bc71795a9bd",
   "metadata": {},
   "outputs": [
    {
     "data": {
      "text/plain": [
       "str"
      ]
     },
     "execution_count": 108,
     "metadata": {},
     "output_type": "execute_result"
    }
   ],
   "source": [
    "type(\"Econometrics\")"
   ]
  },
  {
   "cell_type": "markdown",
   "id": "36b8d7aa-3787-4f62-a072-27793114ad55",
   "metadata": {},
   "source": [
    "- A string is a sequence type because it is made of a series of characters.\n",
    "- Each character can be accessed individually by its position (index).\n",
    "- This sequential nature allows us to iterate over the string using loops, for example:"
   ]
  },
  {
   "cell_type": "code",
   "execution_count": 113,
   "id": "51d30c4d-335e-4d54-bbdf-1510f61c30f3",
   "metadata": {},
   "outputs": [
    {
     "name": "stdout",
     "output_type": "stream",
     "text": [
      "E\n",
      "c\n",
      "o\n",
      "n\n",
      "o\n",
      "m\n",
      "e\n",
      "t\n",
      "r\n",
      "i\n",
      "c\n",
      "s\n"
     ]
    }
   ],
   "source": [
    "for letter in \"Econometrics\":\n",
    "    print(letter)"
   ]
  },
  {
   "cell_type": "markdown",
   "id": "17c621bd-f0a8-4233-935d-5921bad892bf",
   "metadata": {},
   "source": [
    "- In this code, the for loop goes through each character in the string \"Econometrics\".\n",
    "- On each iteration, the variable letter holds the current character, and print(letter) displays it."
   ]
  },
  {
   "cell_type": "markdown",
   "id": "91c03930-3bad-4915-9113-7b40db7c7fcb",
   "metadata": {},
   "source": [
    "### 2. List"
   ]
  },
  {
   "cell_type": "code",
   "execution_count": 25,
   "id": "5890d92b-42c6-40d7-be66-8d4c1ffe3596",
   "metadata": {},
   "outputs": [],
   "source": [
    "interest_rate = [25, 36, 31, 23, 35.8]"
   ]
  },
  {
   "cell_type": "code",
   "execution_count": 27,
   "id": "7fe9f621-217d-4f4c-884c-237531b9e1ac",
   "metadata": {},
   "outputs": [
    {
     "data": {
      "text/plain": [
       "list"
      ]
     },
     "execution_count": 27,
     "metadata": {},
     "output_type": "execute_result"
    }
   ],
   "source": [
    "type(interest_rate)"
   ]
  },
  {
   "cell_type": "markdown",
   "id": "4acccb11-e0f4-4515-838b-825a58087b29",
   "metadata": {},
   "source": [
    "- We can count the number of items in a sequential data type using the len() function.\n"
   ]
  },
  {
   "cell_type": "code",
   "execution_count": 134,
   "id": "c839ca3c-cb82-4601-96a6-9bea12d42815",
   "metadata": {},
   "outputs": [
    {
     "data": {
      "text/plain": [
       "5"
      ]
     },
     "execution_count": 134,
     "metadata": {},
     "output_type": "execute_result"
    }
   ],
   "source": [
    "len(interest_rate)"
   ]
  },
  {
   "cell_type": "markdown",
   "id": "3f57d5c0-671d-48ca-bc26-685dd83ca47c",
   "metadata": {},
   "source": [
    "- We can count the number of items in a sequential data type using the len() function."
   ]
  },
  {
   "cell_type": "code",
   "execution_count": 137,
   "id": "2fe598bd-57c2-4854-aa53-c07d31c1e027",
   "metadata": {},
   "outputs": [
    {
     "data": {
      "text/plain": [
       "25"
      ]
     },
     "execution_count": 137,
     "metadata": {},
     "output_type": "execute_result"
    }
   ],
   "source": [
    "interest_rate[0]"
   ]
  },
  {
   "cell_type": "code",
   "execution_count": 139,
   "id": "6b01303e-85c5-4d6b-a08b-773dea45fcb2",
   "metadata": {},
   "outputs": [
    {
     "data": {
      "text/plain": [
       "36"
      ]
     },
     "execution_count": 139,
     "metadata": {},
     "output_type": "execute_result"
    }
   ],
   "source": [
    "interest_rate[1]"
   ]
  },
  {
   "cell_type": "markdown",
   "id": "e525e96b-d777-4613-bbf2-0244474d2670",
   "metadata": {},
   "source": [
    "### 3. Tuple\n",
    "\n",
    "It is an ordered, immutable data structure | یک ساختار داده‌ای ترتیبی و غیرقابل تغییر\n",
    "\n",
    "- It is created by comma or parenthesis\n",
    "- We can also use tuple() function"
   ]
  },
  {
   "cell_type": "code",
   "execution_count": 151,
   "id": "a3cec3cb-af88-421e-aa41-011b04ad541e",
   "metadata": {},
   "outputs": [
    {
     "name": "stdout",
     "output_type": "stream",
     "text": [
      "(0, 1, 2, 3, 4, 5, 6)\n",
      "It's type is <class 'tuple'>\n"
     ]
    }
   ],
   "source": [
    "data_tuple = 0, 1, 2, 3, 4, 5, 6\n",
    "print(data_tuple)\n",
    "print(\"It's type is\", type(data_tuple))"
   ]
  },
  {
   "cell_type": "code",
   "execution_count": 153,
   "id": "e5cf0a7f-3438-4b02-a6a0-09a2b408e6c3",
   "metadata": {},
   "outputs": [
    {
     "name": "stdout",
     "output_type": "stream",
     "text": [
      "(7, 8, 9, 10)\n",
      "It's type is <class 'tuple'>\n"
     ]
    }
   ],
   "source": [
    "data_tuple_2 = (7, 8, 9, 10)\n",
    "print(data_tuple_2)\n",
    "print(\"It's type is\", type(data_tuple_2))"
   ]
  },
  {
   "cell_type": "markdown",
   "id": "3230f1e6-ffe9-4f5f-9e66-6a7fe1dfd38f",
   "metadata": {},
   "source": [
    "# Mapping data type (or Associative arrays)"
   ]
  },
  {
   "cell_type": "code",
   "execution_count": 33,
   "id": "bb073678-d288-4d98-92c0-747f57aaf116",
   "metadata": {},
   "outputs": [],
   "source": [
    "data = {\"1st\" : \"A\", \"2nd\" : \"N\", \"3rd\" : \"Z\"}"
   ]
  },
  {
   "cell_type": "code",
   "execution_count": 39,
   "id": "d487201d-26d1-4876-b439-9e8b1ca3285d",
   "metadata": {},
   "outputs": [
    {
     "name": "stdout",
     "output_type": "stream",
     "text": [
      "{'1st': 'A', '2nd': 'N', '3rd': 'Z'} <class 'dict'>\n"
     ]
    }
   ],
   "source": [
    "print(data , type(data))"
   ]
  },
  {
   "cell_type": "code",
   "execution_count": 41,
   "id": "ffadedeb-41bc-4182-b096-879d91bb5cda",
   "metadata": {},
   "outputs": [
    {
     "name": "stdout",
     "output_type": "stream",
     "text": [
      "{'1st': 'A', '2nd': 'N', '3rd': 'Z'}\n",
      "<class 'dict'>\n"
     ]
    }
   ],
   "source": [
    "print(data, type(data), sep = \"\\n\")"
   ]
  },
  {
   "cell_type": "markdown",
   "id": "5b86bdac-e477-4f79-8290-1809ef77654e",
   "metadata": {},
   "source": [
    "# Set types"
   ]
  },
  {
   "cell_type": "code",
   "execution_count": 215,
   "id": "522f8bef-d1b7-4b21-94fb-de8ebb24b059",
   "metadata": {},
   "outputs": [
    {
     "name": "stdout",
     "output_type": "stream",
     "text": [
      "(3, 2, 2, 1, 4)\n",
      "{1, 2, 3, 4}\n",
      "<class 'tuple'>\n"
     ]
    }
   ],
   "source": [
    "aaa = (3, 2, 2, 1, 4) #tuple\n",
    "set1 = set(aaa)\n",
    "print(aaa)\n",
    "print(set1)\n",
    "print(type(aaa))"
   ]
  },
  {
   "cell_type": "code",
   "execution_count": 217,
   "id": "1f0c9d56-3300-4611-89a2-54dde6a30230",
   "metadata": {},
   "outputs": [
    {
     "name": "stdout",
     "output_type": "stream",
     "text": [
      "[5, 2, 3, 4, 4, 4, 4]\n",
      "{2, 3, 4, 5}\n",
      "<class 'list'>\n"
     ]
    }
   ],
   "source": [
    "bbb = [5, 2, 3, 4, 4, 4, 4] #list\n",
    "set2 = set(bbb)\n",
    "print(bbb)\n",
    "print(set2)\n",
    "print(type(bbb))"
   ]
  },
  {
   "cell_type": "code",
   "execution_count": 251,
   "id": "e93f7fba-c29a-4bc5-a381-0451eb98de39",
   "metadata": {},
   "outputs": [
    {
     "name": "stdout",
     "output_type": "stream",
     "text": [
      "(1, 'b', 'c', 'c', 4, 1)\n",
      "{'c', 1, 4, 'b'}\n",
      "<class 'tuple'>\n"
     ]
    }
   ],
   "source": [
    "ccc = (1, \"b\", \"c\", \"c\", 4, 1) #tuple\n",
    "set3 = set(ccc)\n",
    "print(ccc)\n",
    "print(set3)\n",
    "print(type(ccc))"
   ]
  },
  {
   "cell_type": "code",
   "execution_count": 253,
   "id": "85e1c0a2-f32d-417e-9e42-92a92c917a32",
   "metadata": {},
   "outputs": [
    {
     "name": "stdout",
     "output_type": "stream",
     "text": [
      "1\n"
     ]
    },
    {
     "ename": "TypeError",
     "evalue": "'set' object is not subscriptable",
     "output_type": "error",
     "traceback": [
      "\u001b[1;31m---------------------------------------------------------------------------\u001b[0m",
      "\u001b[1;31mTypeError\u001b[0m                                 Traceback (most recent call last)",
      "Cell \u001b[1;32mIn[253], line 2\u001b[0m\n\u001b[0;32m      1\u001b[0m \u001b[38;5;28mprint\u001b[39m(ccc[\u001b[38;5;241m0\u001b[39m]) \u001b[38;5;66;03m#Tuple: Ordered, Indexable.\u001b[39;00m\n\u001b[1;32m----> 2\u001b[0m \u001b[38;5;28mprint\u001b[39m(set3[\u001b[38;5;241m0\u001b[39m])\n",
      "\u001b[1;31mTypeError\u001b[0m: 'set' object is not subscriptable"
     ]
    }
   ],
   "source": [
    "print(ccc[0]) #Tuple: Ordered, Indexable.\n",
    "print(set3[0]) #Set: Unordered, No Index."
   ]
  },
  {
   "cell_type": "markdown",
   "id": "6d9cb9ea-a14b-4dda-906f-4d2c3b9f04be",
   "metadata": {},
   "source": [
    "# Bool types"
   ]
  },
  {
   "cell_type": "code",
   "execution_count": 271,
   "id": "c8a344cb-dc35-4ff1-af8e-abc261e62b2e",
   "metadata": {},
   "outputs": [
    {
     "data": {
      "text/plain": [
       "False"
      ]
     },
     "execution_count": 271,
     "metadata": {},
     "output_type": "execute_result"
    }
   ],
   "source": [
    "1 > 2"
   ]
  },
  {
   "cell_type": "code",
   "execution_count": 275,
   "id": "57bfaa3d-7435-437e-b6a6-be93c9be1a88",
   "metadata": {},
   "outputs": [
    {
     "data": {
      "text/plain": [
       "True"
      ]
     },
     "execution_count": 275,
     "metadata": {},
     "output_type": "execute_result"
    }
   ],
   "source": [
    "1 > 2\n",
    "1 < 2"
   ]
  },
  {
   "cell_type": "code",
   "execution_count": 277,
   "id": "ff607fdf-61f7-4b10-bc2f-4ecd24c397de",
   "metadata": {},
   "outputs": [
    {
     "name": "stdout",
     "output_type": "stream",
     "text": [
      "False\n",
      "True\n"
     ]
    }
   ],
   "source": [
    "print(1 > 2)\n",
    "print(1 < 2)"
   ]
  },
  {
   "cell_type": "code",
   "execution_count": 269,
   "id": "a5d0a606-0f29-4727-a163-ab58423666e6",
   "metadata": {},
   "outputs": [
    {
     "data": {
      "text/plain": [
       "False"
      ]
     },
     "execution_count": 269,
     "metadata": {},
     "output_type": "execute_result"
    }
   ],
   "source": [
    "26 > 45"
   ]
  },
  {
   "cell_type": "code",
   "execution_count": 261,
   "id": "2ccfb535-d9dc-4061-97a8-1b5cb10da42e",
   "metadata": {},
   "outputs": [
    {
     "data": {
      "text/plain": [
       "1"
      ]
     },
     "execution_count": 261,
     "metadata": {},
     "output_type": "execute_result"
    }
   ],
   "source": [
    "True + 0"
   ]
  },
  {
   "cell_type": "code",
   "execution_count": 263,
   "id": "dd78b07f-bb13-46c4-887d-c7bd7e5926e1",
   "metadata": {},
   "outputs": [
    {
     "data": {
      "text/plain": [
       "0"
      ]
     },
     "execution_count": 263,
     "metadata": {},
     "output_type": "execute_result"
    }
   ],
   "source": [
    "False + 0"
   ]
  },
  {
   "cell_type": "code",
   "execution_count": 265,
   "id": "1691f6ac-4f61-4b5e-846f-48a39698abc1",
   "metadata": {},
   "outputs": [
    {
     "data": {
      "text/plain": [
       "5"
      ]
     },
     "execution_count": 265,
     "metadata": {},
     "output_type": "execute_result"
    }
   ],
   "source": [
    "True * 5"
   ]
  },
  {
   "cell_type": "markdown",
   "id": "701dae3e-1cbe-4a50-bcf6-730697b0408a",
   "metadata": {},
   "source": [
    "# Back to Numeric Types!\n",
    "\n",
    "### Let's use python as a calculator"
   ]
  },
  {
   "cell_type": "markdown",
   "id": "c54da5eb-84df-4962-9345-ceceffdb5623",
   "metadata": {},
   "source": [
    "1. Addition"
   ]
  },
  {
   "cell_type": "code",
   "execution_count": 317,
   "id": "eb191b13-1b1c-4b7c-93b9-29093e944e8c",
   "metadata": {},
   "outputs": [
    {
     "data": {
      "text/plain": [
       "11"
      ]
     },
     "execution_count": 317,
     "metadata": {},
     "output_type": "execute_result"
    }
   ],
   "source": [
    "5 + 6"
   ]
  },
  {
   "cell_type": "code",
   "execution_count": 321,
   "id": "2e1cb6f8-e0ac-4fde-bef9-4e065b0eff97",
   "metadata": {},
   "outputs": [
    {
     "data": {
      "text/plain": [
       "int"
      ]
     },
     "execution_count": 321,
     "metadata": {},
     "output_type": "execute_result"
    }
   ],
   "source": [
    "type(5 + 6)"
   ]
  },
  {
   "cell_type": "markdown",
   "id": "ce89d07b-83a1-41b8-8ceb-7376a51bf6df",
   "metadata": {},
   "source": [
    "2. Subtraction"
   ]
  },
  {
   "cell_type": "code",
   "execution_count": 284,
   "id": "711747d7-aa86-4735-bbf4-f721e6fbdb9d",
   "metadata": {},
   "outputs": [
    {
     "data": {
      "text/plain": [
       "5"
      ]
     },
     "execution_count": 284,
     "metadata": {},
     "output_type": "execute_result"
    }
   ],
   "source": [
    "9 - 4"
   ]
  },
  {
   "cell_type": "code",
   "execution_count": 323,
   "id": "9074b7f5-70a9-49b5-94b7-dd052f336dae",
   "metadata": {},
   "outputs": [
    {
     "data": {
      "text/plain": [
       "int"
      ]
     },
     "execution_count": 323,
     "metadata": {},
     "output_type": "execute_result"
    }
   ],
   "source": [
    "type(9 - 4)"
   ]
  },
  {
   "cell_type": "markdown",
   "id": "e109f8da-a16c-45b3-bca9-54c97aad4e4a",
   "metadata": {},
   "source": [
    "3. Multiplication"
   ]
  },
  {
   "cell_type": "code",
   "execution_count": 43,
   "id": "73b75793-4e70-4b64-89c8-d40632e6bd62",
   "metadata": {},
   "outputs": [
    {
     "data": {
      "text/plain": [
       "59.5"
      ]
     },
     "execution_count": 43,
     "metadata": {},
     "output_type": "execute_result"
    }
   ],
   "source": [
    "17 * 3.5"
   ]
  },
  {
   "cell_type": "code",
   "execution_count": 49,
   "id": "6ffee14a-145f-4e43-8981-d980dbc50d1c",
   "metadata": {},
   "outputs": [
    {
     "data": {
      "text/plain": [
       "float"
      ]
     },
     "execution_count": 49,
     "metadata": {},
     "output_type": "execute_result"
    }
   ],
   "source": [
    "type(17 * 3.5)"
   ]
  },
  {
   "cell_type": "markdown",
   "id": "5ad1dae1-9bfe-463c-bf7d-a1670ba83a0b",
   "metadata": {},
   "source": [
    "4. Division"
   ]
  },
  {
   "cell_type": "code",
   "execution_count": 292,
   "id": "0b9f5770-4872-4e21-a047-bfd8ad3f3820",
   "metadata": {},
   "outputs": [
    {
     "data": {
      "text/plain": [
       "4.0"
      ]
     },
     "execution_count": 292,
     "metadata": {},
     "output_type": "execute_result"
    }
   ],
   "source": [
    "8 / 2"
   ]
  },
  {
   "cell_type": "code",
   "execution_count": 294,
   "id": "18a07a3a-e393-4d28-aacf-72730f1b2e03",
   "metadata": {},
   "outputs": [
    {
     "data": {
      "text/plain": [
       "3.6666666666666665"
      ]
     },
     "execution_count": 294,
     "metadata": {},
     "output_type": "execute_result"
    }
   ],
   "source": [
    "11 / 3"
   ]
  },
  {
   "cell_type": "code",
   "execution_count": 330,
   "id": "832546d4-b816-4810-acf1-40b7d95ccb4c",
   "metadata": {},
   "outputs": [
    {
     "data": {
      "text/plain": [
       "float"
      ]
     },
     "execution_count": 330,
     "metadata": {},
     "output_type": "execute_result"
    }
   ],
   "source": [
    "type(11 / 3) #division operator create float data type."
   ]
  },
  {
   "cell_type": "markdown",
   "id": "aa0a38ef-4c58-4f10-b75f-782321f6f4a9",
   "metadata": {
    "jp-MarkdownHeadingCollapsed": true
   },
   "source": [
    "### When two line of codes were written, only the last line was printed."
   ]
  },
  {
   "cell_type": "code",
   "execution_count": 305,
   "id": "5318c995-67e9-4820-8ff2-082df0094b67",
   "metadata": {},
   "outputs": [
    {
     "data": {
      "text/plain": [
       "4"
      ]
     },
     "execution_count": 305,
     "metadata": {},
     "output_type": "execute_result"
    }
   ],
   "source": [
    "1 + 1\n",
    "2 + 2"
   ]
  },
  {
   "cell_type": "markdown",
   "id": "4d2487a7-142f-428d-8289-a8291c6616d8",
   "metadata": {},
   "source": [
    "### So, how can we make sure that every line is printed out?\n",
    "- We must use print() function for that purpose."
   ]
  },
  {
   "cell_type": "code",
   "execution_count": 311,
   "id": "37d077e1-9d00-47c0-8f95-b974ca2dd5a7",
   "metadata": {},
   "outputs": [
    {
     "name": "stdout",
     "output_type": "stream",
     "text": [
      "2\n",
      "4\n"
     ]
    }
   ],
   "source": [
    "print(1 + 1)\n",
    "print(2 + 2)"
   ]
  },
  {
   "cell_type": "markdown",
   "id": "73770fef-a7e0-4881-94a3-7968c5685180",
   "metadata": {},
   "source": [
    "5. Remainder\n",
    "   \n",
    "- Gives the remainder of a division"
   ]
  },
  {
   "cell_type": "code",
   "execution_count": 336,
   "id": "e2ead284-9dce-49e9-9d68-d7406982181c",
   "metadata": {},
   "outputs": [
    {
     "data": {
      "text/plain": [
       "0"
      ]
     },
     "execution_count": 336,
     "metadata": {},
     "output_type": "execute_result"
    }
   ],
   "source": [
    "80 % 10"
   ]
  },
  {
   "cell_type": "code",
   "execution_count": 342,
   "id": "c60b6693-9f3b-4076-8ac7-051c6ed0315c",
   "metadata": {},
   "outputs": [
    {
     "data": {
      "text/plain": [
       "9"
      ]
     },
     "execution_count": 342,
     "metadata": {},
     "output_type": "execute_result"
    }
   ],
   "source": [
    "89 % 10 #10 * 8 = 80, 89 - 80 = 9"
   ]
  },
  {
   "cell_type": "markdown",
   "id": "cb59c62f-838b-4079-a324-cf259f0e3d81",
   "metadata": {},
   "source": [
    "6. Floor Division\n",
    "\n",
    "- Gives the largest integer less than or equal to the result of the division."
   ]
  },
  {
   "cell_type": "code",
   "execution_count": 367,
   "id": "174b8c70-3773-45e5-a301-9f1c5bc24556",
   "metadata": {},
   "outputs": [
    {
     "data": {
      "text/plain": [
       "8.0"
      ]
     },
     "execution_count": 367,
     "metadata": {},
     "output_type": "execute_result"
    }
   ],
   "source": [
    "80 / 10"
   ]
  },
  {
   "cell_type": "code",
   "execution_count": 369,
   "id": "33113b5e-f08b-4128-8233-06a26c35e50c",
   "metadata": {},
   "outputs": [
    {
     "data": {
      "text/plain": [
       "8"
      ]
     },
     "execution_count": 369,
     "metadata": {},
     "output_type": "execute_result"
    }
   ],
   "source": [
    "80 // 10"
   ]
  },
  {
   "cell_type": "code",
   "execution_count": 375,
   "id": "774fe2a2-faa5-449f-8cf2-7ecb09f5c8af",
   "metadata": {},
   "outputs": [
    {
     "data": {
      "text/plain": [
       "8.9"
      ]
     },
     "execution_count": 375,
     "metadata": {},
     "output_type": "execute_result"
    }
   ],
   "source": [
    "89 / 10"
   ]
  },
  {
   "cell_type": "code",
   "execution_count": 377,
   "id": "7fd55f88-207d-44cc-8073-3f38fa69ddf7",
   "metadata": {},
   "outputs": [
    {
     "data": {
      "text/plain": [
       "8"
      ]
     },
     "execution_count": 377,
     "metadata": {},
     "output_type": "execute_result"
    }
   ],
   "source": [
    "89 // 10"
   ]
  },
  {
   "cell_type": "code",
   "execution_count": 371,
   "id": "20a36d04-9a60-4d09-8da8-1513a0b2c82d",
   "metadata": {},
   "outputs": [
    {
     "data": {
      "text/plain": [
       "4.5"
      ]
     },
     "execution_count": 371,
     "metadata": {},
     "output_type": "execute_result"
    }
   ],
   "source": [
    "9 / 2"
   ]
  },
  {
   "cell_type": "code",
   "execution_count": 373,
   "id": "318e7169-8d7e-4000-8d8c-81bd4cd1353b",
   "metadata": {},
   "outputs": [
    {
     "data": {
      "text/plain": [
       "4"
      ]
     },
     "execution_count": 373,
     "metadata": {},
     "output_type": "execute_result"
    }
   ],
   "source": [
    "9 // 2"
   ]
  },
  {
   "cell_type": "markdown",
   "id": "b5b73cf9-488a-458d-9ba7-6a74c1481d3c",
   "metadata": {},
   "source": [
    "7. exponential\n",
    "\n",
    "- It raises a number to the power of another number."
   ]
  },
  {
   "cell_type": "code",
   "execution_count": 380,
   "id": "a45e7ecf-703c-4e51-9fec-52a5e349d90a",
   "metadata": {},
   "outputs": [
    {
     "data": {
      "text/plain": [
       "8"
      ]
     },
     "execution_count": 380,
     "metadata": {},
     "output_type": "execute_result"
    }
   ],
   "source": [
    "2 ** 3"
   ]
  },
  {
   "cell_type": "code",
   "execution_count": 382,
   "id": "cf8dfd2c-ed2c-4e68-94a6-f71f25a63819",
   "metadata": {},
   "outputs": [
    {
     "data": {
      "text/plain": [
       "121"
      ]
     },
     "execution_count": 382,
     "metadata": {},
     "output_type": "execute_result"
    }
   ],
   "source": [
    "11 ** 2"
   ]
  },
  {
   "cell_type": "markdown",
   "id": "af376a25-ecc0-4872-821a-b2dbbe085b54",
   "metadata": {},
   "source": [
    "# Order of Mathematical Operations (PEMDAS)\n",
    "1) parentheses ()\n",
    "2) exponential number (**)\n",
    "3) negative number (-x)\n",
    "4) multiplication and division (*, /, %, //)\n",
    "5) addition and substraction (+, -)"
   ]
  },
  {
   "cell_type": "markdown",
   "id": "7b1fb042-5495-443f-ac2a-3e4b31418e66",
   "metadata": {},
   "source": [
    "# Assigning variables"
   ]
  },
  {
   "cell_type": "code",
   "execution_count": 400,
   "id": "f72d13b7-a11a-4197-a2ec-5f67764555b7",
   "metadata": {},
   "outputs": [],
   "source": [
    "a = 2\n",
    "b = 4"
   ]
  },
  {
   "cell_type": "code",
   "execution_count": 402,
   "id": "5f3fdd58-c748-4e22-b79b-96cc70275924",
   "metadata": {},
   "outputs": [
    {
     "data": {
      "text/plain": [
       "8"
      ]
     },
     "execution_count": 402,
     "metadata": {},
     "output_type": "execute_result"
    }
   ],
   "source": [
    "a * b"
   ]
  },
  {
   "cell_type": "code",
   "execution_count": 408,
   "id": "a7be4797-5887-46eb-a89b-5e4c4e9b41d0",
   "metadata": {},
   "outputs": [
    {
     "name": "stdout",
     "output_type": "stream",
     "text": [
      "Hello\n",
      "['Robert, 20, Marcus, 22']\n",
      "(4, 5, 6)\n"
     ]
    }
   ],
   "source": [
    "string_1 = \"Hello\"\n",
    "print(string1)\n",
    "\n",
    "list_1 = [\"Robert, 20, Marcus, 22\"]\n",
    "print(list1)\n",
    "\n",
    "tuple_1 = (4, 5, 6)\n",
    "print(tuple1)\n"
   ]
  },
  {
   "cell_type": "markdown",
   "id": "8ca431dc-1e96-4fee-aae3-4aacfd6f3e0e",
   "metadata": {},
   "source": [
    "# Exercises"
   ]
  },
  {
   "cell_type": "markdown",
   "id": "91ec837f-177e-4554-a334-5fc4a7aea9b5",
   "metadata": {},
   "source": [
    "### 1. Explore the %, //, and ** operators with numerical examples.\n",
    "### 2. Check the type of %, //, and **. What do you conclude?\n",
    "### 3. Can you perform mathematical operations on sequential data types? Which types allow it, and with which types do errors occur?\n",
    "### Send them before the next session. Good luck, brainiacs! 🧠✨\n"
   ]
  },
  {
   "cell_type": "code",
   "execution_count": null,
   "id": "f9c58a12-acab-40a3-ad72-daa54c84ae85",
   "metadata": {},
   "outputs": [],
   "source": []
  }
 ],
 "metadata": {
  "kernelspec": {
   "display_name": "Python 3 (ipykernel)",
   "language": "python",
   "name": "python3"
  },
  "language_info": {
   "codemirror_mode": {
    "name": "ipython",
    "version": 3
   },
   "file_extension": ".py",
   "mimetype": "text/x-python",
   "name": "python",
   "nbconvert_exporter": "python",
   "pygments_lexer": "ipython3",
   "version": "3.12.4"
  }
 },
 "nbformat": 4,
 "nbformat_minor": 5
}
